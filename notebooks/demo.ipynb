{
 "cells": [
  {
   "cell_type": "code",
   "execution_count": 1,
   "metadata": {},
   "outputs": [],
   "source": [
    "import os\n",
    "import sys\n",
    "sys.path.append(os.path.join('..', 'src'))\n",
    "import depot_charging as dc"
   ]
  },
  {
   "cell_type": "code",
   "execution_count": 2,
   "metadata": {},
   "outputs": [
    {
     "data": {
      "text/plain": [
       "\u001b[0;31mSignature:\u001b[0m\n",
       "\u001b[0mdc\u001b[0m\u001b[0;34m.\u001b[0m\u001b[0mgenerate_load_profiles\u001b[0m\u001b[0;34m(\u001b[0m\u001b[0;34m\u001b[0m\n",
       "\u001b[0;34m\u001b[0m    \u001b[0mfleet\u001b[0m\u001b[0;34m,\u001b[0m\u001b[0;34m\u001b[0m\n",
       "\u001b[0;34m\u001b[0m    \u001b[0mfleet_size\u001b[0m\u001b[0;34m,\u001b[0m\u001b[0;34m\u001b[0m\n",
       "\u001b[0;34m\u001b[0m    \u001b[0mcharge_strat\u001b[0m\u001b[0;34m,\u001b[0m\u001b[0;34m\u001b[0m\n",
       "\u001b[0;34m\u001b[0m    \u001b[0mn_samples\u001b[0m\u001b[0;34m=\u001b[0m\u001b[0;36m50\u001b[0m\u001b[0;34m,\u001b[0m\u001b[0;34m\u001b[0m\n",
       "\u001b[0;34m\u001b[0m    \u001b[0mkwh_per_mile\u001b[0m\u001b[0;34m=\u001b[0m\u001b[0;36m1.8\u001b[0m\u001b[0;34m,\u001b[0m\u001b[0;34m\u001b[0m\n",
       "\u001b[0;34m\u001b[0m    \u001b[0mkw\u001b[0m\u001b[0;34m=\u001b[0m\u001b[0;36m100\u001b[0m\u001b[0;34m,\u001b[0m\u001b[0;34m\u001b[0m\n",
       "\u001b[0;34m\u001b[0m    \u001b[0mseed\u001b[0m\u001b[0;34m=\u001b[0m\u001b[0;36m0\u001b[0m\u001b[0;34m,\u001b[0m\u001b[0;34m\u001b[0m\n",
       "\u001b[0;34m\u001b[0m    \u001b[0mto_file\u001b[0m\u001b[0;34m=\u001b[0m\u001b[0;32mFalse\u001b[0m\u001b[0;34m,\u001b[0m\u001b[0;34m\u001b[0m\n",
       "\u001b[0;34m\u001b[0m    \u001b[0mylim\u001b[0m\u001b[0;34m=\u001b[0m\u001b[0;32mNone\u001b[0m\u001b[0;34m,\u001b[0m\u001b[0;34m\u001b[0m\n",
       "\u001b[0;34m\u001b[0m    \u001b[0mprint_pk_loads\u001b[0m\u001b[0;34m=\u001b[0m\u001b[0;32mTrue\u001b[0m\u001b[0;34m,\u001b[0m\u001b[0;34m\u001b[0m\n",
       "\u001b[0;34m\u001b[0m    \u001b[0magg_15min\u001b[0m\u001b[0;34m=\u001b[0m\u001b[0;32mFalse\u001b[0m\u001b[0;34m,\u001b[0m\u001b[0;34m\u001b[0m\n",
       "\u001b[0;34m\u001b[0m\u001b[0;34m)\u001b[0m\u001b[0;34m\u001b[0m\u001b[0;34m\u001b[0m\u001b[0m\n",
       "\u001b[0;31mDocstring:\u001b[0m\n",
       "Generates n_samples fleet load profiles for fleet ('fleet1-beverage-\n",
       "delivery', 'fleet2-warehouse-delivery', or 'fleet3-food-delivery')\n",
       "and fleet_size for a particular charge_strat ('immediate', 'delayed', \n",
       "'min_power') assuming kwh_per_mile average energy consumption rate. If \n",
       "charging_strategy is 'immediate' or 'delayed', EV is charged at kw constant \n",
       "charging power. If to_file==True, second-by-second average day, max peak \n",
       "load day, and min peak load day fleet charging load profiles are written to \n",
       ".csv at '../data/outputs/' and plots are written to .png at \n",
       "'../figures/'.\n",
       "\n",
       "Args:\n",
       "    fleet (str): {'fleet1-beverage-delivery', 'fleet2-warehouse-delivery', \n",
       "        'fleet3-food-delivery'}\n",
       "    fleet_size (int): number of electric trucks operating per day\n",
       "    charge_strat (str): {'immediate', 'delayed', 'min_power'}\n",
       "    n_samples (int, optional): number of sample fleet-days to approx. the\n",
       "        sampling distribution\n",
       "    kwh_per_mile (float, optional): average fuel consumption rate\n",
       "    kw (int, optional): if method in {'immediate', 'delayed'}, constant charging \n",
       "        power level\n",
       "    seed (int, optional): random seed for reproduceability\n",
       "    to_file (bool, optional): if True: write load profiles to file at\n",
       "        '../data/load_profiles/' and plot to file at '../figures/load_profiles/'\n",
       "    y_lim (int, optional): fixes y-axis limit for plotting. If None, y-axis limit\n",
       "        is set automatically\n",
       "    prink_pk_loads (bool, optional): if True, prints peak load (kW) for min peak\n",
       "        load day, average day, and max peak load day to STDOUT.\n",
       "    agg_15min (bool, optional): if True, load profile is aggregated over \n",
       "        15-min interval (avg.), else load profile second-by-second\n",
       "\n",
       "Returns:\n",
       "    pd.DataFrame of concatenated vehicle charging schedules\n",
       "\u001b[0;31mFile:\u001b[0m      ~/Desktop/hdev-depot-charging-2021/src/depot_charging.py\n",
       "\u001b[0;31mType:\u001b[0m      function\n"
      ]
     },
     "metadata": {},
     "output_type": "display_data"
    }
   ],
   "source": [
    "dc.generate_load_profiles?"
   ]
  },
  {
   "cell_type": "code",
   "execution_count": 7,
   "metadata": {},
   "outputs": [
    {
     "name": "stdout",
     "output_type": "stream",
     "text": [
      "Low Bound Peak Demand (kW): 400\n",
      "Average Peak Demand (kW): 488.0\n",
      "Upper Bound Peak Demand (kW): 800\n"
     ]
    },
    {
     "data": {
      "image/png": "[encoded data removed]",
      "text/plain": [
       "<Figure size 144x120.24 with 1 Axes>"
      ]
     },
     "metadata": {
      "needs_background": "light"
     },
     "output_type": "display_data"
    }
   ],
   "source": [
    "df = dc.generate_load_profiles(fleet='fleet1-beverage-delivery', #{'fleet1-beverage-delivery', 'fleet2-warehouse-delivery', 'fleet3-food-delivery'}\n",
    "                               fleet_size=10,\n",
    "                               charge_strat='immediate', #{'immediate', 'delayed', 'min_power'}\n",
    "                               n_samples=50,\n",
    "                               kwh_per_mile=1.8,\n",
    "                               kw=100,\n",
    "                               seed=22,\n",
    "                               to_file=False,\n",
    "                               ylim=None,\n",
    "                               print_pk_loads=True,\n",
    "                               agg_15min=False)"
   ]
  },
  {
   "cell_type": "code",
   "execution_count": 8,
   "metadata": {},
   "outputs": [
    {
     "name": "stdout",
     "output_type": "stream",
     "text": [
      "Low Bound Peak Demand (kW): 1000\n",
      "Average Peak Demand (kW): 1334.0\n",
      "Upper Bound Peak Demand (kW): 1700\n"
     ]
    },
    {
     "data": {
      "image/png": "[encoded data removed]",
      "text/plain": [
       "<Figure size 144x120.24 with 1 Axes>"
      ]
     },
     "metadata": {
      "needs_background": "light"
     },
     "output_type": "display_data"
    }
   ],
   "source": [
    "df = dc.generate_load_profiles(fleet='fleet2-warehouse-delivery', #{'fleet1-beverage-delivery', 'fleet2-warehouse-delivery', 'fleet3-food-delivery'}\n",
    "                               fleet_size=20,\n",
    "                               charge_strat='delayed', #{'immediate', 'delayed', 'min_power'}\n",
    "                               n_samples=50,\n",
    "                               kwh_per_mile=1.8,\n",
    "                               kw=100,\n",
    "                               seed=22,\n",
    "                               to_file=False,\n",
    "                               ylim=None,\n",
    "                               print_pk_loads=True,\n",
    "                               agg_15min=False)"
   ]
  },
  {
   "cell_type": "code",
   "execution_count": 9,
   "metadata": {},
   "outputs": [
    {
     "name": "stdout",
     "output_type": "stream",
     "text": [
      "Low Bound Peak Demand (kW): 411.24\n",
      "Average Peak Demand (kW): 621.45\n",
      "Upper Bound Peak Demand (kW): 943.79\n"
     ]
    },
    {
     "data": {
      "image/png": "[encoded data removed]",
      "text/plain": [
       "<Figure size 144x120.24 with 1 Axes>"
      ]
     },
     "metadata": {
      "needs_background": "light"
     },
     "output_type": "display_data"
    }
   ],
   "source": [
    "df = dc.generate_load_profiles(fleet='fleet3-food-delivery', #{'fleet1-beverage-delivery', 'fleet2-warehouse-delivery', 'fleet3-food-delivery'}\n",
    "                               fleet_size=30,\n",
    "                               charge_strat='min_power', #{'immediate', 'delayed', 'min_power'}\n",
    "                               n_samples=50,\n",
    "                               kwh_per_mile=1.8,\n",
    "                               kw=100,\n",
    "                               seed=22,\n",
    "                               to_file=False,\n",
    "                               ylim=None,\n",
    "                               print_pk_loads=True,\n",
    "                               agg_15min=False)"
   ]
  }
 ],
 "metadata": {
  "kernelspec": {
   "display_name": "Python 3",
   "language": "python",
   "name": "python3"
  },
  "language_info": {
   "codemirror_mode": {
    "name": "ipython",
    "version": 3
   },
   "file_extension": ".py",
   "mimetype": "text/x-python",
   "name": "python",
   "nbconvert_exporter": "python",
   "pygments_lexer": "ipython3",
   "version": "3.9.4"
  }
 },
 "nbformat": 4,
 "nbformat_minor": 4
}
